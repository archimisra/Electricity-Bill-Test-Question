{
  "nbformat": 4,
  "nbformat_minor": 0,
  "metadata": {
    "colab": {
      "provenance": [],
      "authorship_tag": "ABX9TyN6yIUrTrRH8edsl1fvqzey",
      "include_colab_link": true
    },
    "kernelspec": {
      "name": "python3",
      "display_name": "Python 3"
    },
    "language_info": {
      "name": "python"
    }
  },
  "cells": [
    {
      "cell_type": "markdown",
      "metadata": {
        "id": "view-in-github",
        "colab_type": "text"
      },
      "source": [
        "<a href=\"https://colab.research.google.com/github/archimisra/Electricity-Bill-Test-Question/blob/main/Untitled12.ipynb\" target=\"_parent\"><img src=\"https://colab.research.google.com/assets/colab-badge.svg\" alt=\"Open In Colab\"/></a>"
      ]
    },
    {
      "cell_type": "code",
      "execution_count": 3,
      "metadata": {
        "colab": {
          "base_uri": "https://localhost:8080/"
        },
        "id": "g3nNvlXF4wkw",
        "outputId": "ec536df7-6da6-4464-a921-f434d601be75"
      },
      "outputs": [
        {
          "output_type": "stream",
          "name": "stdout",
          "text": [
            "enter units consumed:150\n",
            "total amount(Rs.): 850\n"
          ]
        }
      ],
      "source": [
        "Units = int(input(\"enter units consumed:\"))\n",
        "if Units <= 100:\n",
        "  print(\"total amount(Rs.):\", 5*100)\n",
        "elif Units <= 200:\n",
        "  print(\"total amount(Rs.):\", 5*100 + (Units - 100)*7)\n",
        "else:\n",
        "  print(\"total amount(Rs.):\", 5*100 + 7*100 + (Units - 200)*10)"
      ]
    },
    {
      "cell_type": "code",
      "source": [],
      "metadata": {
        "id": "a5dL1qGM4_U6"
      },
      "execution_count": null,
      "outputs": []
    }
  ]
}